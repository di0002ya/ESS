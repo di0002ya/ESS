{
 "cells": [
  {
   "cell_type": "markdown",
   "metadata": {},
   "source": [
    "# Baseline Model - Deep Learning"
   ]
  },
  {
   "cell_type": "markdown",
   "metadata": {},
   "source": [
    "After investigatng NASA data, let's develop an simple baseline model. \n",
    "\n",
    "For simplicity, we will divide features into two categories: \n",
    "\n",
    "1. Charge Feature Sets\n",
    "2. Discharge Feature Sets\n",
    "\n",
    "Aim: Predict Capacity in Discharge Feature Set"
   ]
  },
  {
   "cell_type": "markdown",
   "metadata": {},
   "source": [
    "## 1. Feature Set - Discharge"
   ]
  },
  {
   "cell_type": "markdown",
   "metadata": {},
   "source": [
    "### 0. Preprocessing"
   ]
  },
  {
   "cell_type": "code",
   "execution_count": 1,
   "metadata": {},
   "outputs": [],
   "source": [
    "import scipy.io\n",
    "import pandas as pd\n",
    "root = '/home/di0002ya/ESS/data/NASA/'"
   ]
  },
  {
   "cell_type": "code",
   "execution_count": 2,
   "metadata": {},
   "outputs": [],
   "source": [
    "def save2df(root,name):\n",
    "    temp= pd.read_csv(root+ name)\n",
    "    return temp"
   ]
  },
  {
   "cell_type": "code",
   "execution_count": 3,
   "metadata": {},
   "outputs": [],
   "source": [
    "B5Charge = save2df(root,'B0005_Charge.csv')\n",
    "B5Discharge = save2df(root,'B0005_Discharge.csv')\n",
    "B6Charge = save2df(root,'B0006_Charge.csv')\n",
    "B6Discharge = save2df(root,'B0006_Discharge.csv')\n",
    "B7Charge = save2df(root,'B0007_Charge.csv')\n",
    "B7Discharge = save2df(root,'B0007_Discharge.csv')\n",
    "B18Charge = save2df(root,'B0018_Charge.csv')\n",
    "B18Discharge = save2df(root,'B0018_Discharge.csv')"
   ]
  },
  {
   "cell_type": "code",
   "execution_count": 4,
   "metadata": {},
   "outputs": [],
   "source": [
    "import numpy as np\n",
    "def data_pre(df):\n",
    "    x1 = np.arange(df.shape[0])\n",
    "    # Convert Time_root to cycle \n",
    "    unique_ar = np.unique(df[['Time_root']])\n",
    "    cycle_index = np.arange(unique_ar.shape[0])\n",
    "    zipbObj = zip(unique_ar, cycle_index)\n",
    "    dictOfWords = dict(zipbObj)\n",
    "    df['Cycle'] = df['Time_root'].map(dictOfWords)\n",
    "    return df "
   ]
  },
  {
   "cell_type": "code",
   "execution_count": 5,
   "metadata": {},
   "outputs": [],
   "source": [
    "B5Charge = data_pre(B5Charge)\n",
    "B5Discharge = data_pre(B5Discharge)\n",
    "B6Charge = data_pre(B6Charge)\n",
    "B6Discharge = data_pre(B6Discharge)\n",
    "B7Charge = data_pre(B7Charge)\n",
    "B7Discharge = data_pre(B7Discharge)\n",
    "B18Charge = data_pre(B18Charge)\n",
    "B18Discharge = data_pre(B18Discharge)"
   ]
  },
  {
   "cell_type": "markdown",
   "metadata": {},
   "source": [
    "### 1. Discharge Voltage Measured"
   ]
  },
  {
   "cell_type": "code",
   "execution_count": 6,
   "metadata": {},
   "outputs": [],
   "source": [
    "import numpy as np\n",
    "import matplotlib\n",
    "import matplotlib.pyplot as plt"
   ]
  },
  {
   "cell_type": "code",
   "execution_count": 7,
   "metadata": {},
   "outputs": [
    {
     "data": {
      "text/html": [
       "<div>\n",
       "<style scoped>\n",
       "    .dataframe tbody tr th:only-of-type {\n",
       "        vertical-align: middle;\n",
       "    }\n",
       "\n",
       "    .dataframe tbody tr th {\n",
       "        vertical-align: top;\n",
       "    }\n",
       "\n",
       "    .dataframe thead th {\n",
       "        text-align: right;\n",
       "    }\n",
       "</style>\n",
       "<table border=\"1\" class=\"dataframe\">\n",
       "  <thead>\n",
       "    <tr style=\"text-align: right;\">\n",
       "      <th></th>\n",
       "      <th>Temperature_root</th>\n",
       "      <th>Time_root</th>\n",
       "      <th>Time</th>\n",
       "      <th>Voltage_measured</th>\n",
       "      <th>Current_measured</th>\n",
       "      <th>Temperature_measured</th>\n",
       "      <th>Current_load</th>\n",
       "      <th>Voltage_load</th>\n",
       "      <th>Capacity</th>\n",
       "      <th>Cycle</th>\n",
       "    </tr>\n",
       "  </thead>\n",
       "  <tbody>\n",
       "    <tr>\n",
       "      <th>0</th>\n",
       "      <td>24</td>\n",
       "      <td>733500.642843</td>\n",
       "      <td>0.000</td>\n",
       "      <td>4.191492</td>\n",
       "      <td>-0.004902</td>\n",
       "      <td>24.330034</td>\n",
       "      <td>-0.0006</td>\n",
       "      <td>0.000</td>\n",
       "      <td>1.856487</td>\n",
       "      <td>0</td>\n",
       "    </tr>\n",
       "    <tr>\n",
       "      <th>1</th>\n",
       "      <td>24</td>\n",
       "      <td>733500.642843</td>\n",
       "      <td>16.781</td>\n",
       "      <td>4.190749</td>\n",
       "      <td>-0.001478</td>\n",
       "      <td>24.325993</td>\n",
       "      <td>-0.0006</td>\n",
       "      <td>4.206</td>\n",
       "      <td>1.856487</td>\n",
       "      <td>0</td>\n",
       "    </tr>\n",
       "  </tbody>\n",
       "</table>\n",
       "</div>"
      ],
      "text/plain": [
       "   Temperature_root      Time_root    Time  Voltage_measured  \\\n",
       "0                24  733500.642843   0.000          4.191492   \n",
       "1                24  733500.642843  16.781          4.190749   \n",
       "\n",
       "   Current_measured  Temperature_measured  Current_load  Voltage_load  \\\n",
       "0         -0.004902             24.330034       -0.0006         0.000   \n",
       "1         -0.001478             24.325993       -0.0006         4.206   \n",
       "\n",
       "   Capacity  Cycle  \n",
       "0  1.856487      0  \n",
       "1  1.856487      0  "
      ]
     },
     "execution_count": 7,
     "metadata": {},
     "output_type": "execute_result"
    }
   ],
   "source": [
    "cycle = np.arange(0,160,1).tolist()\n",
    "df = B5Discharge\n",
    "df.head(2)"
   ]
  },
  {
   "cell_type": "code",
   "execution_count": 8,
   "metadata": {},
   "outputs": [],
   "source": [
    "def dis_vm_feat(df,cycle,offset):\n",
    "    temp_ls = []\n",
    "    for i in range(len(cycle)):\n",
    "        filter_rows = df.loc[df['Cycle'] == cycle[i]]\n",
    "        filter_col = filter_rows['Voltage_measured']\n",
    "        filter_col = filter_col.reset_index(drop=True)\n",
    "        # 1. End Index & Offset \n",
    "        end_index = filter_col.index[-1]\n",
    "        end_index_ls = np.arange(end_index-offset,end_index+1)\n",
    "        end_value_ls = filter_col[end_index_ls]\n",
    "        # 2. 2nd order differential top N max\n",
    "        dx = np.gradient(np.array(filter_col))\n",
    "        ddx = np.gradient(dx)\n",
    "        max2_index_ls = np.argsort(ddx)[-offset:][::-1]\n",
    "        max2_value_ls = filter_col[np.array(max2_index_ls)]\n",
    "        # 3. Consists 2 Dimensional Feature Datasets (x1(index) vs x2(value))\n",
    "        X1 = np.hstack((max2_index_ls,end_index_ls))\n",
    "        X2 = np.hstack((max2_value_ls,end_value_ls))\n",
    "        temp = np.vstack((X1,X2))\n",
    "        temp_ls.append(temp)\n",
    "    feat = np.stack(temp_ls)\n",
    "    return feat"
   ]
  },
  {
   "cell_type": "code",
   "execution_count": 135,
   "metadata": {},
   "outputs": [
    {
     "name": "stdout",
     "output_type": "stream",
     "text": [
      "(160, 2, 9)\n"
     ]
    }
   ],
   "source": [
    "dis_vm = dis_vm_feat(df,cycle,offset=4)\n",
    "print(dis_vm.shape)"
   ]
  },
  {
   "cell_type": "code",
   "execution_count": 136,
   "metadata": {},
   "outputs": [],
   "source": [
    "# Draw Select Features \n",
    "def plot_select(df,feat,cycle,i,select):\n",
    "    filter_rows = df.loc[df['Cycle'] == cycle[i]]\n",
    "    filter_col = filter_rows[select]\n",
    "    drawing_pt = feat[i][0]\n",
    "    t = np.arange(filter_col.shape[0])\n",
    "\n",
    "    xs = feat[i][0]\n",
    "    ys = feat[i][1]\n",
    "    xs = xs.astype(int)\n",
    "    plt.scatter(xs, ys, marker='o',color='r')\n",
    "    plt.plot(t,filter_col)\n",
    "    plt.xlabel('Pts per cycle')\n",
    "    plt.ylabel('Value')\n",
    "    plt.show()"
   ]
  },
  {
   "cell_type": "code",
   "execution_count": 137,
   "metadata": {},
   "outputs": [
    {
     "data": {
      "image/png": "[encoded data removed]",
      "text/plain": [
       "<Figure size 432x288 with 1 Axes>"
      ]
     },
     "metadata": {
      "needs_background": "light"
     },
     "output_type": "display_data"
    },
    {
     "data": {
      "image/png": "[encoded data removed]",
      "text/plain": [
       "<Figure size 432x288 with 1 Axes>"
      ]
     },
     "metadata": {
      "needs_background": "light"
     },
     "output_type": "display_data"
    }
   ],
   "source": [
    "i = 100\n",
    "plot_select(df=df,feat=dis_vm, cycle =cycle,i = i,select='Voltage_measured')\n",
    "i = 1\n",
    "plot_select(df=df,feat=dis_vm, cycle =cycle,i = i,select='Voltage_measured')"
   ]
  },
  {
   "cell_type": "markdown",
   "metadata": {},
   "source": [
    "### 2. Discharge Current Measured"
   ]
  },
  {
   "cell_type": "code",
   "execution_count": 138,
   "metadata": {},
   "outputs": [],
   "source": [
    "def dis_cm_feat(df,cycle,offset):\n",
    "    temp_ls = []\n",
    "    for i in range(len(cycle)):\n",
    "        filter_rows = df.loc[df['Cycle'] == cycle[i]]\n",
    "        filter_col = filter_rows['Current_measured']\n",
    "        filter_col = filter_col.reset_index(drop=True)\n",
    "        # 2. 1st order differential top N max\n",
    "        dx = np.gradient(np.array(filter_col))\n",
    "#         max_index1 = np.unravel_index(np.argmin(dx, axis=None), dx.shape)[0]\n",
    "        end_index = filter_col.index[-1]\n",
    "        max_index2 = np.unravel_index(np.argmax(dx, axis=None), dx.shape)[0]\n",
    "        index_ls = np.arange(0,offset)\n",
    "        index_ls2 = np.arange(end_index-offset, end_index+1)\n",
    "        index_ls3 = np.arange(max_index2-offset,max_index2+1)\n",
    "        value_ls = filter_col[np.array(index_ls)]\n",
    "        value_ls2 = filter_col[np.array(index_ls2)]        \n",
    "        value_ls3 = filter_col[np.array(index_ls3)]  \n",
    "        # 3. Consists 2 Dimensional Feature Datasets (x1(index) vs x2(value))\n",
    "        X1 = np.hstack((index_ls,index_ls2,index_ls3))\n",
    "        X2 = np.hstack((value_ls,value_ls2,value_ls3))\n",
    "        temp = np.vstack((X1,X2))\n",
    "        temp_ls.append(temp)\n",
    "    feat = np.stack(temp_ls)\n",
    "    return feat"
   ]
  },
  {
   "cell_type": "code",
   "execution_count": 142,
   "metadata": {},
   "outputs": [
    {
     "name": "stdout",
     "output_type": "stream",
     "text": [
      "(160, 2, 8)\n"
     ]
    }
   ],
   "source": [
    "dis_cm = dis_cm_feat(df,cycle,offset=2)\n",
    "print(dis_cm.shape)"
   ]
  },
  {
   "cell_type": "code",
   "execution_count": 143,
   "metadata": {},
   "outputs": [
    {
     "data": {
      "image/png": "[encoded data removed]",
      "text/plain": [
       "<Figure size 432x288 with 1 Axes>"
      ]
     },
     "metadata": {
      "needs_background": "light"
     },
     "output_type": "display_data"
    },
    {
     "data": {
      "image/png": "[encoded data removed]",
      "text/plain": [
       "<Figure size 432x288 with 1 Axes>"
      ]
     },
     "metadata": {
      "needs_background": "light"
     },
     "output_type": "display_data"
    }
   ],
   "source": [
    "i = 100\n",
    "plot_select(df=df,feat=dis_cm, cycle =cycle,i = i,select='Current_measured')\n",
    "i = 1\n",
    "plot_select(df=df,feat=dis_cm, cycle =cycle,i = i,select='Current_measured')"
   ]
  },
  {
   "cell_type": "markdown",
   "metadata": {},
   "source": [
    "### 3. Discharge Current Load"
   ]
  },
  {
   "cell_type": "code",
   "execution_count": 144,
   "metadata": {},
   "outputs": [],
   "source": [
    "def dis_cl_feat(df,cycle,offset):\n",
    "    temp_ls = []\n",
    "    for i in range(len(cycle)):\n",
    "        filter_rows = df.loc[df['Cycle'] == cycle[i]]\n",
    "        filter_col = filter_rows['Current_load']\n",
    "        filter_col = filter_col.reset_index(drop=True)\n",
    "        # 2. 1st order differential top N max\n",
    "        dx = np.gradient(np.array(filter_col))\n",
    "#         max_index1 = np.unravel_index(np.argmin(dx, axis=None), dx.shape)[0]\n",
    "        end_index = filter_col.index[-1]\n",
    "        max_index2 = np.unravel_index(np.argmax(dx, axis=None), dx.shape)[0]\n",
    "        index_ls = np.arange(0,offset)\n",
    "        index_ls2 = np.arange(end_index-offset, end_index+1)\n",
    "        index_ls3 = np.arange(max_index2-offset,max_index2+1)\n",
    "        value_ls = filter_col[np.array(index_ls)]\n",
    "        value_ls2 = filter_col[np.array(index_ls2)]        \n",
    "        value_ls3 = filter_col[np.array(index_ls3)]  \n",
    "        # 3. Consists 2 Dimensional Feature Datasets (x1(index) vs x2(value))\n",
    "        X1 = np.hstack((index_ls,index_ls2,index_ls3))\n",
    "        X2 = np.hstack((value_ls,value_ls2,value_ls3))\n",
    "        temp = np.vstack((X1,X2))\n",
    "        temp_ls.append(temp)\n",
    "    feat = np.stack(temp_ls)\n",
    "    return feat"
   ]
  },
  {
   "cell_type": "code",
   "execution_count": 147,
   "metadata": {},
   "outputs": [
    {
     "name": "stdout",
     "output_type": "stream",
     "text": [
      "(160, 2, 5)\n"
     ]
    }
   ],
   "source": [
    "dis_cl = dis_cl_feat(df,cycle,offset=1)\n",
    "print(dis_cl.shape)"
   ]
  },
  {
   "cell_type": "code",
   "execution_count": 148,
   "metadata": {},
   "outputs": [
    {
     "data": {
      "image/png": "[encoded data removed]",
      "text/plain": [
       "<Figure size 432x288 with 1 Axes>"
      ]
     },
     "metadata": {
      "needs_background": "light"
     },
     "output_type": "display_data"
    },
    {
     "data": {
      "image/png": "[encoded data removed]",
      "text/plain": [
       "<Figure size 432x288 with 1 Axes>"
      ]
     },
     "metadata": {
      "needs_background": "light"
     },
     "output_type": "display_data"
    }
   ],
   "source": [
    "i = 100\n",
    "plot_select(df=df,feat=dis_cl, cycle =cycle,i = i,select='Current_load')\n",
    "i = 40\n",
    "plot_select(df=df,feat=dis_cl, cycle =cycle,i = i,select='Current_load')"
   ]
  },
  {
   "cell_type": "markdown",
   "metadata": {},
   "source": [
    "### 4. Discharge Voltage Load"
   ]
  },
  {
   "cell_type": "code",
   "execution_count": 149,
   "metadata": {},
   "outputs": [],
   "source": [
    "def dis_vl_feat(df,cycle,offset):\n",
    "    temp_ls = []\n",
    "    for i in range(len(cycle)):\n",
    "        filter_rows = df.loc[df['Cycle'] == cycle[i]]\n",
    "        filter_col = filter_rows['Voltage_load']\n",
    "        filter_col = filter_col.reset_index(drop=True)\n",
    "        # 2. 1st order differential top N max\n",
    "        dx = np.gradient(np.array(filter_col))\n",
    "#         max_index1 = np.unravel_index(np.argmin(dx, axis=None), dx.shape)[0]\n",
    "        end_index = filter_col.index[-1]\n",
    "        index_ls = np.arange(end_index-offset, end_index+1)\n",
    "        value_ls = filter_col[np.array(index_ls)] \n",
    "        # 3. Consists 2 Dimensional Feature Datasets (x1(index) vs x2(value))\n",
    "        temp = np.vstack((index_ls,value_ls))\n",
    "        temp_ls.append(temp)\n",
    "    feat = np.stack(temp_ls)\n",
    "    return feat"
   ]
  },
  {
   "cell_type": "code",
   "execution_count": 154,
   "metadata": {},
   "outputs": [
    {
     "name": "stdout",
     "output_type": "stream",
     "text": [
      "(160, 2, 3)\n"
     ]
    }
   ],
   "source": [
    "dis_vl = dis_vl_feat(df,cycle,offset=2)\n",
    "print(dis_vl.shape)"
   ]
  },
  {
   "cell_type": "code",
   "execution_count": 155,
   "metadata": {},
   "outputs": [
    {
     "data": {
      "image/png": "[encoded data removed]",
      "text/plain": [
       "<Figure size 432x288 with 1 Axes>"
      ]
     },
     "metadata": {
      "needs_background": "light"
     },
     "output_type": "display_data"
    },
    {
     "data": {
      "image/png": "[encoded data removed]",
      "text/plain": [
       "<Figure size 432x288 with 1 Axes>"
      ]
     },
     "metadata": {
      "needs_background": "light"
     },
     "output_type": "display_data"
    }
   ],
   "source": [
    "i = 150\n",
    "plot_select(df=df,feat=dis_vl, cycle =cycle,i = i,select='Voltage_load')\n",
    "i = 1\n",
    "plot_select(df=df,feat=dis_vl, cycle =cycle,i = i,select='Voltage_load')"
   ]
  },
  {
   "cell_type": "markdown",
   "metadata": {},
   "source": [
    "### 5. Target: Capacity"
   ]
  },
  {
   "cell_type": "code",
   "execution_count": 156,
   "metadata": {},
   "outputs": [],
   "source": [
    "def capacity(df,cycle):\n",
    "    temp_ls = []\n",
    "    for i in range(len(cycle)):\n",
    "        filter_rows = df.loc[df['Cycle'] == cycle[i]]\n",
    "        filter_col = filter_rows['Capacity']\n",
    "        filter_col = filter_col.reset_index(drop=True)\n",
    "        # 2. 1st order differential top N max\n",
    "        temp_ls.append(filter_col[0])\n",
    "    return temp_ls"
   ]
  },
  {
   "cell_type": "code",
   "execution_count": 157,
   "metadata": {},
   "outputs": [],
   "source": [
    "capacity_ar = np.array(capacity(df,cycle))"
   ]
  },
  {
   "cell_type": "markdown",
   "metadata": {},
   "source": [
    "### 6. X: Final Features"
   ]
  },
  {
   "cell_type": "code",
   "execution_count": 158,
   "metadata": {},
   "outputs": [
    {
     "name": "stdout",
     "output_type": "stream",
     "text": [
      "(160, 2, 3)\n",
      "(160, 2, 5)\n",
      "(160, 2, 9)\n",
      "(160, 2, 8)\n"
     ]
    }
   ],
   "source": [
    "print(dis_vl.shape)\n",
    "print(dis_cl.shape)\n",
    "print(dis_vm.shape)\n",
    "print(dis_cm.shape)"
   ]
  },
  {
   "cell_type": "markdown",
   "metadata": {},
   "source": [
    "## 2. Training Model - Discharge Feature Dataset"
   ]
  },
  {
   "cell_type": "markdown",
   "metadata": {},
   "source": [
    "### 0. Get All Data"
   ]
  },
  {
   "cell_type": "code",
   "execution_count": 159,
   "metadata": {},
   "outputs": [],
   "source": [
    "# Training Data \n",
    "df_ls = [B5Discharge,B6Discharge,B7Discharge]\n",
    "X_ls = []\n",
    "Y_ls = []\n",
    "for i in range(len(df_ls)):\n",
    "    df = df_ls[i]\n",
    "    dis_vm = dis_vm_feat(df,cycle,offset=4)\n",
    "    dis_cm = dis_cm_feat(df,cycle,offset=2)\n",
    "    dis_cl = dis_cl_feat(df,cycle,offset=1)\n",
    "    dis_vl = dis_vl_feat(df,cycle,offset=2)\n",
    "    capacity_ar = np.array(capacity(df,cycle))\n",
    "    X_ls.append(np.concatenate((dis_vm,dis_cm,dis_cl,dis_vl),axis=2))\n",
    "    Y_ls.append(capacity_ar)\n",
    "X_ar = np.concatenate(X_ls)\n",
    "Y_ar = np.concatenate(Y_ls)"
   ]
  },
  {
   "cell_type": "code",
   "execution_count": 160,
   "metadata": {},
   "outputs": [
    {
     "data": {
      "text/plain": [
       "(480, 2, 25)"
      ]
     },
     "execution_count": 160,
     "metadata": {},
     "output_type": "execute_result"
    }
   ],
   "source": [
    "X_ar.shape"
   ]
  },
  {
   "cell_type": "code",
   "execution_count": 161,
   "metadata": {},
   "outputs": [
    {
     "data": {
      "text/plain": [
       "(480,)"
      ]
     },
     "execution_count": 161,
     "metadata": {},
     "output_type": "execute_result"
    }
   ],
   "source": [
    "Y_ar.shape"
   ]
  },
  {
   "cell_type": "markdown",
   "metadata": {},
   "source": [
    "Data is really insuffient. But let's try first."
   ]
  },
  {
   "cell_type": "markdown",
   "metadata": {},
   "source": [
    "### 1. Data Normalization"
   ]
  },
  {
   "cell_type": "code",
   "execution_count": 162,
   "metadata": {},
   "outputs": [],
   "source": [
    "from sklearn import preprocessing\n",
    "min_max_scaler = preprocessing.MinMaxScaler()\n",
    "X_train_minmax = min_max_scaler.fit_transform(X_ar.reshape(X_ar.shape[0],-1))"
   ]
  },
  {
   "cell_type": "code",
   "execution_count": 163,
   "metadata": {},
   "outputs": [
    {
     "data": {
      "text/plain": [
       "(480, 50)"
      ]
     },
     "execution_count": 163,
     "metadata": {},
     "output_type": "execute_result"
    }
   ],
   "source": [
    "X_train_minmax.shape"
   ]
  },
  {
   "cell_type": "code",
   "execution_count": 164,
   "metadata": {},
   "outputs": [],
   "source": [
    "X_norm = X_train_minmax.reshape(X_ar.shape[0],X_ar.shape[1],X_ar.shape[2])"
   ]
  },
  {
   "cell_type": "code",
   "execution_count": 165,
   "metadata": {},
   "outputs": [
    {
     "data": {
      "text/plain": [
       "(480, 2, 25)"
      ]
     },
     "execution_count": 165,
     "metadata": {},
     "output_type": "execute_result"
    }
   ],
   "source": [
    "X_norm.shape"
   ]
  },
  {
   "cell_type": "code",
   "execution_count": 166,
   "metadata": {},
   "outputs": [],
   "source": [
    "Y_train_minmax = min_max_scaler.fit_transform(Y_ar.reshape(X_ar.shape[0],-1))"
   ]
  },
  {
   "cell_type": "code",
   "execution_count": 167,
   "metadata": {},
   "outputs": [],
   "source": [
    "Y_norm = Y_train_minmax.reshape(Y_ar.shape)"
   ]
  },
  {
   "cell_type": "code",
   "execution_count": 168,
   "metadata": {},
   "outputs": [],
   "source": [
    "# Shuffle Data \n",
    "s = np.arange(X_norm.shape[0])\n",
    "np.random.shuffle(s)"
   ]
  },
  {
   "cell_type": "code",
   "execution_count": 169,
   "metadata": {},
   "outputs": [],
   "source": [
    "X_norm_sf = X_norm[s]"
   ]
  },
  {
   "cell_type": "code",
   "execution_count": 170,
   "metadata": {},
   "outputs": [],
   "source": [
    "Y_norm_sf = Y_norm[s]"
   ]
  },
  {
   "cell_type": "code",
   "execution_count": 171,
   "metadata": {},
   "outputs": [
    {
     "data": {
      "text/plain": [
       "(480, 2, 25)"
      ]
     },
     "execution_count": 171,
     "metadata": {},
     "output_type": "execute_result"
    }
   ],
   "source": [
    "X_norm_sf.shape"
   ]
  },
  {
   "cell_type": "markdown",
   "metadata": {},
   "source": [
    "### 2. Build Model (Keras)"
   ]
  },
  {
   "cell_type": "code",
   "execution_count": 205,
   "metadata": {},
   "outputs": [],
   "source": [
    "from keras.layers import LSTM, Dense, Conv2D, Flatten, MaxPooling2D\n",
    "from keras.models import Sequential \n",
    "from keras.optimizers import Adam"
   ]
  },
  {
   "cell_type": "code",
   "execution_count": 236,
   "metadata": {},
   "outputs": [
    {
     "name": "stdout",
     "output_type": "stream",
     "text": [
      "nan\n"
     ]
    }
   ],
   "source": [
    "print(X_norm_sf.min())"
   ]
  },
  {
   "cell_type": "code",
   "execution_count": 206,
   "metadata": {},
   "outputs": [],
   "source": [
    "X = X_norm.reshape(X_norm.shape[0],-1)"
   ]
  },
  {
   "cell_type": "code",
   "execution_count": 207,
   "metadata": {},
   "outputs": [],
   "source": [
    "Input = X.reshape(X.shape[0],X_norm_sf.shape[1],5,5)"
   ]
  },
  {
   "cell_type": "code",
   "execution_count": 208,
   "metadata": {},
   "outputs": [],
   "source": [
    "adam = Adam(lr=0.0001, beta_1=0.9, beta_2=0.999, epsilon=None, decay=0.0, amsgrad=False)"
   ]
  },
  {
   "cell_type": "code",
   "execution_count": 215,
   "metadata": {},
   "outputs": [
    {
     "data": {
      "text/plain": [
       "(480, 50)"
      ]
     },
     "execution_count": 215,
     "metadata": {},
     "output_type": "execute_result"
    }
   ],
   "source": [
    "X.shape"
   ]
  },
  {
   "cell_type": "code",
   "execution_count": 210,
   "metadata": {},
   "outputs": [],
   "source": [
    "# model = Sequential()\n",
    "# model.add(Conv2D(filters = 2, kernel_size = 2, input_shape = (2,5,5),strides=(1, 1), padding='valid', data_format=None, dilation_rate=(1, 1), activation='relu'))\n",
    "# model.add(Flatten())\n",
    "# model.add(Dense(10, activation = 'relu'))\n",
    "# model.add(Dense(1, activation = 'linear'))\n",
    "# model.compile(loss='mse', optimizer=adam)"
   ]
  },
  {
   "cell_type": "code",
   "execution_count": 226,
   "metadata": {},
   "outputs": [],
   "source": [
    "model = Sequential()\n",
    "model.add(Dense(10, input_shape = (50,),activation = 'tanh'))\n",
    "model.add(Dense(1, activation = 'linear'))\n",
    "model.compile(loss='mae', optimizer=adam)"
   ]
  },
  {
   "cell_type": "code",
   "execution_count": 227,
   "metadata": {},
   "outputs": [
    {
     "name": "stdout",
     "output_type": "stream",
     "text": [
      "_________________________________________________________________\n",
      "Layer (type)                 Output Shape              Param #   \n",
      "=================================================================\n",
      "dense_52 (Dense)             (None, 10)                510       \n",
      "_________________________________________________________________\n",
      "dense_53 (Dense)             (None, 1)                 11        \n",
      "=================================================================\n",
      "Total params: 521\n",
      "Trainable params: 521\n",
      "Non-trainable params: 0\n",
      "_________________________________________________________________\n"
     ]
    }
   ],
   "source": [
    "model.summary()"
   ]
  },
  {
   "cell_type": "code",
   "execution_count": 228,
   "metadata": {},
   "outputs": [],
   "source": [
    "args = {}\n",
    "args['batch'] = 1\n",
    "args['epochs'] = 10"
   ]
  },
  {
   "cell_type": "code",
   "execution_count": 229,
   "metadata": {},
   "outputs": [
    {
     "name": "stderr",
     "output_type": "stream",
     "text": [
      "/home/di0002ya/miniconda3/envs/quickdraw/lib/python3.6/site-packages/ipykernel_launcher.py:3: UserWarning: The `nb_epoch` argument in `fit` has been renamed `epochs`.\n",
      "  This is separate from the ipykernel package so we can avoid doing imports until\n"
     ]
    },
    {
     "name": "stdout",
     "output_type": "stream",
     "text": [
      "Train on 475 samples, validate on 5 samples\n",
      "Epoch 1/10\n",
      " - 3s - loss: nan - val_loss: nan\n",
      "Epoch 2/10\n",
      " - 1s - loss: nan - val_loss: nan\n",
      "Epoch 3/10\n",
      " - 1s - loss: nan - val_loss: nan\n",
      "Epoch 4/10\n",
      " - 1s - loss: nan - val_loss: nan\n",
      "Epoch 5/10\n",
      " - 2s - loss: nan - val_loss: nan\n",
      "Epoch 6/10\n",
      " - 1s - loss: nan - val_loss: nan\n",
      "Epoch 7/10\n",
      " - 1s - loss: nan - val_loss: nan\n",
      "Epoch 8/10\n",
      " - 2s - loss: nan - val_loss: nan\n",
      "Epoch 9/10\n",
      " - 1s - loss: nan - val_loss: nan\n",
      "Epoch 10/10\n",
      " - 2s - loss: nan - val_loss: nan\n"
     ]
    },
    {
     "data": {
      "text/plain": [
       "<keras.callbacks.History at 0x155120068f98>"
      ]
     },
     "execution_count": 229,
     "metadata": {},
     "output_type": "execute_result"
    }
   ],
   "source": [
    "model.fit(X, Y_norm,\n",
    "          batch_size = args['batch'], nb_epoch= args['epochs'], \n",
    "          verbose=2,validation_split=0.01)"
   ]
  },
  {
   "cell_type": "code",
   "execution_count": 225,
   "metadata": {},
   "outputs": [
    {
     "data": {
      "text/plain": [
       "array([[0.374599],\n",
       "       [0.374599],\n",
       "       [0.374599],\n",
       "       [0.374599],\n",
       "       [0.374599],\n",
       "       [0.374599],\n",
       "       [0.374599],\n",
       "       [0.374599],\n",
       "       [0.374599],\n",
       "       [0.374599],\n",
       "       [0.374599],\n",
       "       [0.374599],\n",
       "       [0.374599],\n",
       "       [0.374599],\n",
       "       [0.374599],\n",
       "       [0.374599],\n",
       "       [0.374599],\n",
       "       [0.374599],\n",
       "       [0.374599],\n",
       "       [0.374599],\n",
       "       [0.374599],\n",
       "       [0.374599],\n",
       "       [0.374599],\n",
       "       [0.374599],\n",
       "       [0.374599],\n",
       "       [0.374599],\n",
       "       [0.374599],\n",
       "       [0.374599],\n",
       "       [0.374599],\n",
       "       [0.374599],\n",
       "       [0.374599],\n",
       "       [0.374599],\n",
       "       [0.374599],\n",
       "       [0.374599],\n",
       "       [0.374599],\n",
       "       [0.374599],\n",
       "       [0.374599],\n",
       "       [0.374599],\n",
       "       [0.374599],\n",
       "       [0.374599],\n",
       "       [0.374599],\n",
       "       [0.374599],\n",
       "       [0.374599],\n",
       "       [0.374599],\n",
       "       [0.374599],\n",
       "       [0.374599],\n",
       "       [0.374599],\n",
       "       [0.374599],\n",
       "       [0.374599],\n",
       "       [0.374599],\n",
       "       [0.374599],\n",
       "       [0.374599],\n",
       "       [0.374599],\n",
       "       [0.374599],\n",
       "       [0.374599],\n",
       "       [0.374599],\n",
       "       [0.374599],\n",
       "       [0.374599],\n",
       "       [0.374599],\n",
       "       [0.374599],\n",
       "       [0.374599],\n",
       "       [0.374599],\n",
       "       [0.374599],\n",
       "       [0.374599],\n",
       "       [0.374599],\n",
       "       [0.374599],\n",
       "       [0.374599],\n",
       "       [0.374599],\n",
       "       [0.374599],\n",
       "       [0.374599],\n",
       "       [0.374599],\n",
       "       [0.374599],\n",
       "       [0.374599],\n",
       "       [0.374599],\n",
       "       [0.374599],\n",
       "       [0.374599],\n",
       "       [0.374599],\n",
       "       [0.374599],\n",
       "       [0.374599],\n",
       "       [0.374599],\n",
       "       [0.374599],\n",
       "       [0.374599],\n",
       "       [0.374599],\n",
       "       [0.374599],\n",
       "       [0.374599],\n",
       "       [0.374599],\n",
       "       [0.374599],\n",
       "       [0.374599],\n",
       "       [0.374599],\n",
       "       [0.374599],\n",
       "       [0.374599],\n",
       "       [0.374599],\n",
       "       [0.374599],\n",
       "       [0.374599],\n",
       "       [0.374599],\n",
       "       [0.374599],\n",
       "       [0.374599],\n",
       "       [0.374599],\n",
       "       [0.374599],\n",
       "       [0.374599],\n",
       "       [0.374599],\n",
       "       [0.374599],\n",
       "       [0.374599],\n",
       "       [0.374599],\n",
       "       [0.374599],\n",
       "       [0.374599],\n",
       "       [0.374599],\n",
       "       [0.374599],\n",
       "       [0.374599],\n",
       "       [0.374599],\n",
       "       [0.374599],\n",
       "       [0.374599],\n",
       "       [0.374599],\n",
       "       [0.374599],\n",
       "       [0.374599],\n",
       "       [0.374599],\n",
       "       [0.374599],\n",
       "       [0.374599],\n",
       "       [0.374599],\n",
       "       [0.374599],\n",
       "       [0.374599],\n",
       "       [0.374599],\n",
       "       [0.374599],\n",
       "       [0.374599],\n",
       "       [0.374599],\n",
       "       [0.374599],\n",
       "       [0.374599],\n",
       "       [0.374599],\n",
       "       [0.374599],\n",
       "       [0.374599],\n",
       "       [0.374599],\n",
       "       [0.374599],\n",
       "       [0.374599],\n",
       "       [0.374599],\n",
       "       [0.374599],\n",
       "       [0.374599],\n",
       "       [0.374599],\n",
       "       [0.374599],\n",
       "       [0.374599],\n",
       "       [0.374599],\n",
       "       [0.374599],\n",
       "       [0.374599],\n",
       "       [0.374599],\n",
       "       [0.374599],\n",
       "       [0.374599],\n",
       "       [0.374599],\n",
       "       [0.374599],\n",
       "       [0.374599],\n",
       "       [0.374599],\n",
       "       [0.374599],\n",
       "       [0.374599],\n",
       "       [0.374599],\n",
       "       [0.374599],\n",
       "       [0.374599],\n",
       "       [0.374599],\n",
       "       [0.374599],\n",
       "       [0.374599],\n",
       "       [0.374599],\n",
       "       [0.374599],\n",
       "       [0.374599],\n",
       "       [0.374599],\n",
       "       [0.374599],\n",
       "       [0.374599],\n",
       "       [0.374599],\n",
       "       [0.374599],\n",
       "       [0.374599],\n",
       "       [0.374599],\n",
       "       [0.374599],\n",
       "       [0.374599],\n",
       "       [0.374599],\n",
       "       [0.374599],\n",
       "       [0.374599],\n",
       "       [0.374599],\n",
       "       [0.374599],\n",
       "       [0.374599],\n",
       "       [0.374599],\n",
       "       [0.374599],\n",
       "       [0.374599],\n",
       "       [0.374599],\n",
       "       [0.374599],\n",
       "       [0.374599],\n",
       "       [0.374599],\n",
       "       [0.374599],\n",
       "       [0.374599],\n",
       "       [0.374599],\n",
       "       [0.374599],\n",
       "       [0.374599],\n",
       "       [0.374599],\n",
       "       [0.374599],\n",
       "       [0.374599],\n",
       "       [0.374599],\n",
       "       [0.374599],\n",
       "       [0.374599],\n",
       "       [0.374599],\n",
       "       [0.374599],\n",
       "       [0.374599],\n",
       "       [0.374599],\n",
       "       [0.374599],\n",
       "       [0.374599],\n",
       "       [0.374599],\n",
       "       [0.374599],\n",
       "       [0.374599],\n",
       "       [0.374599],\n",
       "       [0.374599],\n",
       "       [0.374599],\n",
       "       [0.374599],\n",
       "       [0.374599],\n",
       "       [0.374599],\n",
       "       [0.374599],\n",
       "       [0.374599],\n",
       "       [0.374599],\n",
       "       [0.374599],\n",
       "       [0.374599],\n",
       "       [0.374599],\n",
       "       [0.374599],\n",
       "       [0.374599],\n",
       "       [0.374599],\n",
       "       [0.374599],\n",
       "       [0.374599],\n",
       "       [0.374599],\n",
       "       [0.374599],\n",
       "       [0.374599],\n",
       "       [0.374599],\n",
       "       [0.374599],\n",
       "       [0.374599],\n",
       "       [0.374599],\n",
       "       [0.374599],\n",
       "       [0.374599],\n",
       "       [0.374599],\n",
       "       [0.374599],\n",
       "       [0.374599],\n",
       "       [0.374599],\n",
       "       [0.374599],\n",
       "       [0.374599],\n",
       "       [0.374599],\n",
       "       [0.374599],\n",
       "       [0.374599],\n",
       "       [0.374599],\n",
       "       [0.374599],\n",
       "       [0.374599],\n",
       "       [0.374599],\n",
       "       [0.374599],\n",
       "       [0.374599],\n",
       "       [0.374599],\n",
       "       [0.374599],\n",
       "       [0.374599],\n",
       "       [0.374599],\n",
       "       [0.374599],\n",
       "       [0.374599],\n",
       "       [0.374599],\n",
       "       [0.374599],\n",
       "       [0.374599],\n",
       "       [0.374599],\n",
       "       [0.374599],\n",
       "       [0.374599],\n",
       "       [0.374599],\n",
       "       [0.374599],\n",
       "       [0.374599],\n",
       "       [0.374599],\n",
       "       [0.374599],\n",
       "       [0.374599],\n",
       "       [0.374599],\n",
       "       [0.374599],\n",
       "       [0.374599],\n",
       "       [0.374599],\n",
       "       [0.374599],\n",
       "       [0.374599],\n",
       "       [0.374599],\n",
       "       [0.374599],\n",
       "       [0.374599],\n",
       "       [0.374599],\n",
       "       [0.374599],\n",
       "       [0.374599],\n",
       "       [0.374599],\n",
       "       [0.374599],\n",
       "       [0.374599],\n",
       "       [0.374599],\n",
       "       [0.374599],\n",
       "       [0.374599],\n",
       "       [0.374599],\n",
       "       [0.374599],\n",
       "       [0.374599],\n",
       "       [0.374599],\n",
       "       [0.374599],\n",
       "       [0.374599],\n",
       "       [0.374599],\n",
       "       [0.374599],\n",
       "       [0.374599],\n",
       "       [0.374599],\n",
       "       [0.374599],\n",
       "       [0.374599],\n",
       "       [0.374599],\n",
       "       [0.374599],\n",
       "       [0.374599],\n",
       "       [0.374599],\n",
       "       [0.374599],\n",
       "       [0.374599],\n",
       "       [0.374599],\n",
       "       [0.374599],\n",
       "       [0.374599],\n",
       "       [0.374599],\n",
       "       [0.374599],\n",
       "       [0.374599],\n",
       "       [0.374599],\n",
       "       [0.374599],\n",
       "       [0.374599],\n",
       "       [0.374599],\n",
       "       [0.374599],\n",
       "       [0.374599],\n",
       "       [0.374599],\n",
       "       [0.374599],\n",
       "       [0.374599],\n",
       "       [0.374599],\n",
       "       [0.374599],\n",
       "       [0.374599],\n",
       "       [0.374599],\n",
       "       [0.374599],\n",
       "       [0.374599],\n",
       "       [0.374599],\n",
       "       [0.374599],\n",
       "       [0.374599],\n",
       "       [0.374599],\n",
       "       [0.374599],\n",
       "       [0.374599],\n",
       "       [0.374599],\n",
       "       [0.374599],\n",
       "       [0.374599],\n",
       "       [0.374599],\n",
       "       [0.374599],\n",
       "       [0.374599],\n",
       "       [0.374599],\n",
       "       [0.374599],\n",
       "       [0.374599],\n",
       "       [0.374599],\n",
       "       [0.374599],\n",
       "       [0.374599],\n",
       "       [0.374599],\n",
       "       [0.374599],\n",
       "       [0.374599],\n",
       "       [0.374599],\n",
       "       [0.374599],\n",
       "       [0.374599],\n",
       "       [0.374599],\n",
       "       [0.374599],\n",
       "       [0.374599],\n",
       "       [0.374599],\n",
       "       [0.374599],\n",
       "       [0.374599],\n",
       "       [0.374599],\n",
       "       [0.374599],\n",
       "       [0.374599],\n",
       "       [0.374599],\n",
       "       [0.374599],\n",
       "       [0.374599],\n",
       "       [0.374599],\n",
       "       [0.374599],\n",
       "       [0.374599],\n",
       "       [0.374599],\n",
       "       [0.374599],\n",
       "       [0.374599],\n",
       "       [0.374599],\n",
       "       [0.374599],\n",
       "       [0.374599],\n",
       "       [0.374599],\n",
       "       [0.374599],\n",
       "       [0.374599],\n",
       "       [0.374599],\n",
       "       [0.374599],\n",
       "       [0.374599],\n",
       "       [0.374599],\n",
       "       [0.374599],\n",
       "       [0.374599],\n",
       "       [0.374599],\n",
       "       [0.374599],\n",
       "       [0.374599],\n",
       "       [0.374599],\n",
       "       [0.374599],\n",
       "       [0.374599],\n",
       "       [0.374599],\n",
       "       [0.374599],\n",
       "       [0.374599],\n",
       "       [0.374599],\n",
       "       [0.374599],\n",
       "       [0.374599],\n",
       "       [0.374599],\n",
       "       [0.374599],\n",
       "       [0.374599],\n",
       "       [0.374599],\n",
       "       [0.374599],\n",
       "       [0.374599],\n",
       "       [0.374599],\n",
       "       [0.374599],\n",
       "       [0.374599],\n",
       "       [0.374599],\n",
       "       [0.374599],\n",
       "       [0.374599],\n",
       "       [0.374599],\n",
       "       [0.374599],\n",
       "       [0.374599],\n",
       "       [0.374599],\n",
       "       [0.374599],\n",
       "       [0.374599],\n",
       "       [0.374599],\n",
       "       [0.374599],\n",
       "       [0.374599],\n",
       "       [0.374599],\n",
       "       [0.374599],\n",
       "       [0.374599],\n",
       "       [0.374599],\n",
       "       [0.374599],\n",
       "       [0.374599],\n",
       "       [0.374599],\n",
       "       [0.374599],\n",
       "       [0.374599],\n",
       "       [0.374599],\n",
       "       [0.374599],\n",
       "       [0.374599],\n",
       "       [0.374599],\n",
       "       [0.374599],\n",
       "       [0.374599],\n",
       "       [0.374599],\n",
       "       [0.374599],\n",
       "       [0.374599],\n",
       "       [0.374599],\n",
       "       [0.374599],\n",
       "       [0.374599],\n",
       "       [0.374599],\n",
       "       [0.374599],\n",
       "       [0.374599],\n",
       "       [0.374599],\n",
       "       [0.374599],\n",
       "       [0.374599],\n",
       "       [0.374599],\n",
       "       [0.374599],\n",
       "       [0.374599],\n",
       "       [0.374599],\n",
       "       [0.374599],\n",
       "       [0.374599],\n",
       "       [0.374599],\n",
       "       [0.374599],\n",
       "       [0.374599],\n",
       "       [0.374599],\n",
       "       [0.374599],\n",
       "       [0.374599],\n",
       "       [0.374599],\n",
       "       [0.374599],\n",
       "       [0.374599],\n",
       "       [0.374599],\n",
       "       [0.374599],\n",
       "       [0.374599],\n",
       "       [0.374599],\n",
       "       [0.374599],\n",
       "       [0.374599],\n",
       "       [0.374599],\n",
       "       [0.374599],\n",
       "       [0.374599],\n",
       "       [0.374599],\n",
       "       [0.374599],\n",
       "       [0.374599],\n",
       "       [0.374599],\n",
       "       [0.374599],\n",
       "       [0.374599],\n",
       "       [0.374599],\n",
       "       [0.374599],\n",
       "       [0.374599],\n",
       "       [0.374599],\n",
       "       [0.374599],\n",
       "       [0.374599],\n",
       "       [0.374599],\n",
       "       [0.374599],\n",
       "       [0.374599],\n",
       "       [0.374599],\n",
       "       [0.374599],\n",
       "       [0.374599],\n",
       "       [0.374599],\n",
       "       [0.374599],\n",
       "       [0.374599],\n",
       "       [0.374599],\n",
       "       [0.374599],\n",
       "       [0.374599]], dtype=float32)"
      ]
     },
     "execution_count": 225,
     "metadata": {},
     "output_type": "execute_result"
    }
   ],
   "source": [
    "model.predict(X)"
   ]
  },
  {
   "cell_type": "code",
   "execution_count": null,
   "metadata": {},
   "outputs": [],
   "source": []
  }
 ],
 "metadata": {
  "kernelspec": {
   "display_name": "Python 3",
   "language": "python",
   "name": "python3"
  },
  "language_info": {
   "codemirror_mode": {
    "name": "ipython",
    "version": 3
   },
   "file_extension": ".py",
   "mimetype": "text/x-python",
   "name": "python",
   "nbconvert_exporter": "python",
   "pygments_lexer": "ipython3",
   "version": "3.6.4"
  }
 },
 "nbformat": 4,
 "nbformat_minor": 2
}
